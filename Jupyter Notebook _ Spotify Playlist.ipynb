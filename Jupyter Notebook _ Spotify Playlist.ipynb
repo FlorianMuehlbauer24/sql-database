{
 "cells": [
  {
   "cell_type": "code",
   "execution_count": 3,
   "id": "ee44d34c",
   "metadata": {
    "scrolled": true
   },
   "outputs": [],
   "source": [
    "# Upload data sets\n",
    "filepath_topartists = r'C:\\Users\\flori\\Documents\\GitHub\\sql-database\\best_selling_artists.csv'\n",
    "filepath_spotifytop10k = r'C:\\Users\\flori\\Documents\\GitHub\\sql-database\\Spotify_final_dataset.csv'\n"
   ]
  },
  {
   "cell_type": "code",
   "execution_count": 8,
   "id": "577767bf",
   "metadata": {},
   "outputs": [],
   "source": [
    "df_topartists = pd.read_csv(filepath_topartists)\n",
    "df_spotifytop10k = pd.read_csv(filepath_spotifytop10k)"
   ]
  },
  {
   "cell_type": "code",
   "execution_count": 9,
   "id": "461234b7",
   "metadata": {},
   "outputs": [
    {
     "name": "stdout",
     "output_type": "stream",
     "text": [
      "Artist           0\n",
      "Country          0\n",
      "period_active    0\n",
      "Year             0\n",
      "Genre            0\n",
      "TCU              0\n",
      "Sales            0\n",
      "dtype: int64\n",
      "Position                  0\n",
      "Artist Name               0\n",
      "Song Name                 4\n",
      "Days                      0\n",
      "Top 10 (xTimes)           0\n",
      "Peak Position             0\n",
      "Peak Position (xTimes)    0\n",
      "Peak Streams              0\n",
      "Total Streams             0\n",
      "dtype: int64\n"
     ]
    }
   ],
   "source": [
    "# Check for Null Values\n",
    "import pandas as pd\n",
    "\n",
    "# df_topartists\n",
    "print(df_topartists.isnull().sum())\n",
    "\n",
    "# df_spotifytop10k\n",
    "print(df_spotifytop10k.isnull().sum())"
   ]
  },
  {
   "cell_type": "code",
   "execution_count": 10,
   "id": "4768c0d0",
   "metadata": {},
   "outputs": [],
   "source": [
    "# Remove rows with NULL Values\n",
    "df_spotifytop10k_cleaned = df_spotifytop10k.dropna(subset=['Song Name'])"
   ]
  },
  {
   "cell_type": "code",
   "execution_count": 13,
   "id": "7e28b457",
   "metadata": {},
   "outputs": [],
   "source": [
    "# Remove Columns that are not needed \n",
    "# df_topartists\n",
    "columns_to_remove = ['Country', 'period_active', 'Year', 'Genre', 'TCU', 'Sales']\n",
    "df_topartists = df_topartists.drop(columns=columns_to_remove)"
   ]
  },
  {
   "cell_type": "code",
   "execution_count": 15,
   "id": "bade5494",
   "metadata": {},
   "outputs": [],
   "source": [
    "# df_spotifytop10k_cleaned\n",
    "\n",
    "columns_to_remove_df_spotifytop10k_cleaned = ['Days', 'Top 10 (xTimes)', 'Peak Position', 'Peak Position (xTimes)', 'Peak Streams']\n",
    "df_spotifytop10k_cleaned = df_spotifytop10k_cleaned.drop(columns=columns_to_remove_topartists)\n"
   ]
  },
  {
   "cell_type": "code",
   "execution_count": 16,
   "id": "14c7a2be",
   "metadata": {},
   "outputs": [
    {
     "ename": "NameError",
     "evalue": "name 'df_topartists_cleaned' is not defined",
     "output_type": "error",
     "traceback": [
      "\u001b[1;31m---------------------------------------------------------------------------\u001b[0m",
      "\u001b[1;31mNameError\u001b[0m                                 Traceback (most recent call last)",
      "Cell \u001b[1;32mIn[16], line 5\u001b[0m\n\u001b[0;32m      2\u001b[0m df_spotifytop10k_cleaned\u001b[38;5;241m.\u001b[39mto_csv(\u001b[38;5;124m'\u001b[39m\u001b[38;5;124mcleaned_spotifytop10k.csv\u001b[39m\u001b[38;5;124m'\u001b[39m, index\u001b[38;5;241m=\u001b[39m\u001b[38;5;28;01mFalse\u001b[39;00m)\n\u001b[0;32m      4\u001b[0m \u001b[38;5;66;03m# Export df_topartists_cleaned\u001b[39;00m\n\u001b[1;32m----> 5\u001b[0m df_topartists_cleaned\u001b[38;5;241m.\u001b[39mto_csv(\u001b[38;5;124m'\u001b[39m\u001b[38;5;124mcleaned_topartists.csv\u001b[39m\u001b[38;5;124m'\u001b[39m, index\u001b[38;5;241m=\u001b[39m\u001b[38;5;28;01mFalse\u001b[39;00m)\n",
      "\u001b[1;31mNameError\u001b[0m: name 'df_topartists_cleaned' is not defined"
     ]
    }
   ],
   "source": [
    "# Export df_spotifytop10k_cleaned\n",
    "df_spotifytop10k_cleaned.to_csv('cleaned_spotifytop10k.csv', index=False)\n",
    "\n",
    "# Export df_topartists_cleaned\n",
    "df_topartists_cleaned.to_csv('cleaned_topartists.csv', index=False)"
   ]
  },
  {
   "cell_type": "code",
   "execution_count": null,
   "id": "1643862e",
   "metadata": {},
   "outputs": [],
   "source": []
  }
 ],
 "metadata": {
  "kernelspec": {
   "display_name": "Python 3 (ipykernel)",
   "language": "python",
   "name": "python3"
  },
  "language_info": {
   "codemirror_mode": {
    "name": "ipython",
    "version": 3
   },
   "file_extension": ".py",
   "mimetype": "text/x-python",
   "name": "python",
   "nbconvert_exporter": "python",
   "pygments_lexer": "ipython3",
   "version": "3.11.5"
  }
 },
 "nbformat": 4,
 "nbformat_minor": 5
}
